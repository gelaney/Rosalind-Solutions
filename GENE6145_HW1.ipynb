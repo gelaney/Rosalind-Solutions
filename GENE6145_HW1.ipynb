{
  "nbformat": 4,
  "nbformat_minor": 0,
  "metadata": {
    "colab": {
      "provenance": []
    },
    "kernelspec": {
      "name": "python3",
      "display_name": "Python 3"
    },
    "language_info": {
      "name": "python"
    }
  },
  "cells": [
    {
      "cell_type": "code",
      "execution_count": null,
      "metadata": {
        "colab": {
          "base_uri": "https://localhost:8080/"
        },
        "id": "9WgvwXG6i1ZY",
        "outputId": "a89ebe36-16bc-4515-b553-07f34637942c"
      },
      "outputs": [
        {
          "output_type": "stream",
          "name": "stdout",
          "text": [
            "--2024-02-15 21:28:47--  https://raw.githubusercontent.com/phagenomics/GENE5120/main/rosalind_gc.txt\n",
            "Resolving raw.githubusercontent.com (raw.githubusercontent.com)... 185.199.111.133, 185.199.110.133, 185.199.109.133, ...\n",
            "Connecting to raw.githubusercontent.com (raw.githubusercontent.com)|185.199.111.133|:443... connected.\n",
            "HTTP request sent, awaiting response... 200 OK\n",
            "Length: 6438 (6.3K) [text/plain]\n",
            "Saving to: ‘rosalind_gc.txt.3’\n",
            "\n",
            "\rrosalind_gc.txt.3     0%[                    ]       0  --.-KB/s               \rrosalind_gc.txt.3   100%[===================>]   6.29K  --.-KB/s    in 0s      \n",
            "\n",
            "2024-02-15 21:28:48 (60.3 MB/s) - ‘rosalind_gc.txt.3’ saved [6438/6438]\n",
            "\n"
          ]
        }
      ],
      "source": [
        "!wget 'https://raw.githubusercontent.com/phagenomics/GENE5120/main/rosalind_gc.txt'"
      ]
    },
    {
      "cell_type": "code",
      "source": [
        "seq = {}\n",
        "with open('rosalind_gc.txt') as file:\n",
        "  for line in file.readlines():\n",
        "    if '>' in line:\n",
        "      name = line[1::]\n",
        "      seq[name] = ''\n",
        "    else:\n",
        "      stripped = line.strip()\n",
        "      seq[name] = seq[name] + stripped\n",
        "\n",
        "  max_count = 0\n",
        "  max_key = None"
      ],
      "metadata": {
        "id": "z-xw1SR1i_R4"
      },
      "execution_count": null,
      "outputs": []
    },
    {
      "cell_type": "code",
      "source": [
        "def gc_content(sequence):\n",
        "  base_count = 0\n",
        "  for base in sequence:\n",
        "    if (base == 'G' or base == 'C'):\n",
        "      base_count += 1\n",
        "  return base_count / len(sequence)\n",
        "\n",
        "def highest_gc_count(seq):\n",
        "    max_count = 0\n",
        "    max_key = None"
      ],
      "metadata": {
        "id": "zJ1X9-VWlHgR"
      },
      "execution_count": null,
      "outputs": []
    },
    {
      "cell_type": "code",
      "source": [
        "for key in seq:\n",
        "  gc_seq = gc_content(seq[key])\n",
        "if gc_seq > max_count:\n",
        "    max_count = gc_seq\n",
        "    max_key = key\n",
        "    print (key, (gc_seq))\n",
        "\n",
        "print(highest_gc_count(seq))"
      ],
      "metadata": {
        "colab": {
          "base_uri": "https://localhost:8080/"
        },
        "id": "dmTzjaQyjMYJ",
        "outputId": "05a722dc-ecb4-47a2-c8c3-de80a4de192c"
      },
      "execution_count": null,
      "outputs": [
        {
          "output_type": "stream",
          "name": "stdout",
          "text": [
            "Rosalind_2632\n",
            " 0.4684317718940937\n",
            "None\n"
          ]
        }
      ]
    }
  ]
}