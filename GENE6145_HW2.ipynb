{
  "nbformat": 4,
  "nbformat_minor": 0,
  "metadata": {
    "colab": {
      "provenance": []
    },
    "kernelspec": {
      "name": "python3",
      "display_name": "Python 3"
    },
    "language_info": {
      "name": "python"
    }
  },
  "cells": [
    {
      "cell_type": "code",
      "execution_count": null,
      "metadata": {
        "id": "9WgvwXG6i1ZY"
      },
      "outputs": [],
      "source": [
        "!wget 'https://raw.githubusercontent.com/phagenomics/GENE5120/main/rosalind_gc.txt'"
      ]
    },
    {
      "cell_type": "code",
      "source": [
        "!pip install biopython"
      ],
      "metadata": {
        "id": "5LJvfpOABJUn"
      },
      "execution_count": null,
      "outputs": []
    },
    {
      "cell_type": "code",
      "source": [
        "from Bio import SeqIO\n",
        "from Bio.Seq import Seq"
      ],
      "metadata": {
        "id": "EQ_0f7GvA-P0"
      },
      "execution_count": null,
      "outputs": []
    },
    {
      "cell_type": "code",
      "source": [
        "with open('rosalind_gc.txt', 'r') as f:\n",
        "    records = list(SeqIO.parse(f, 'fasta'))\n",
        "    dna_seq = records[0].seq\n",
        "    introns = [record.seq for record in records[1:]]"
      ],
      "metadata": {
        "id": "z-xw1SR1i_R4"
      },
      "execution_count": null,
      "outputs": []
    },
    {
      "cell_type": "code",
      "source": [
        "for intron in introns:\n",
        "    dna_seq = dna_seq.replace(intron, '')"
      ],
      "metadata": {
        "id": "qlK8O1AjObL0"
      },
      "execution_count": null,
      "outputs": []
    },
    {
      "cell_type": "code",
      "source": [
        "rna_seq = dna_seq.replace('T', 'U')"
      ],
      "metadata": {
        "id": "YIq_Joq_O5VT"
      },
      "execution_count": null,
      "outputs": []
    },
    {
      "cell_type": "code",
      "source": [
        "# optional, to see the rna sequence\n",
        "print(rna_seq)"
      ],
      "metadata": {
        "id": "xziGDiugPR06"
      },
      "execution_count": null,
      "outputs": []
    },
    {
      "cell_type": "code",
      "source": [
        "protein_seq = rna_seq.translate(to_stop=False)"
      ],
      "metadata": {
        "id": "_REE1MEMOnA9"
      },
      "execution_count": null,
      "outputs": []
    },
    {
      "cell_type": "code",
      "source": [
        "print(protein_seq)"
      ],
      "metadata": {
        "id": "aFnw1voLOv-R"
      },
      "execution_count": null,
      "outputs": []
    }
  ]
}